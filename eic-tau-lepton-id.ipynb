{
 "cells": [
  {
   "cell_type": "markdown",
   "metadata": {},
   "source": [
    "# Electron Ion Collider Experiments: Tau Lepton ID\n",
    "\n",
    "See eic-electron-id for introduction on phsyics, detectors, EIC, DIS, etc.\n",
    "\n",
    "Tau identification with machine learning\n",
    "* What is a tau particle- e.g. leptoquarks events (reference for details)\n",
    "* Separating tau jets from standard model jets. Machine learning."
   ]
  },
  {
   "cell_type": "code",
   "execution_count": 1,
   "metadata": {},
   "outputs": [],
   "source": [
    "import pandas as pd\n",
    "import numpy as np"
   ]
  },
  {
   "cell_type": "code",
   "execution_count": 2,
   "metadata": {},
   "outputs": [],
   "source": [
    "# read data\n",
    "data = pd.read_csv('data/LeptoAna_r05_p250_e20.csv')\n",
    "#data = data.astype('float32')\n",
    "#data = data.dropna(axis=0)"
   ]
  },
  {
   "cell_type": "code",
   "execution_count": 3,
   "metadata": {},
   "outputs": [
    {
     "name": "stdout",
     "output_type": "stream",
     "text": [
      "<class 'pandas.core.frame.DataFrame'>\n",
      "RangeIndex: 14363 entries, 0 to 14362\n",
      "Data columns (total 49 columns):\n",
      "Row                          14363 non-null int64\n",
      "event                        14363 non-null int64\n",
      "evtgen_is_tau                14363 non-null int64\n",
      "evtgen_tau_etotal            6556 non-null float64\n",
      "evtgen_tau_eta               6556 non-null float64\n",
      "evtgen_tau_phi               6556 non-null float64\n",
      "evtgen_tau_decay_prong       14363 non-null int64\n",
      "evtgen_tau_decay_hcharged    14363 non-null int64\n",
      "evtgen_tau_decay_lcharged    14363 non-null int64\n",
      "evtgen_is_uds                14363 non-null int64\n",
      "evtgen_uds_etotal            6519 non-null float64\n",
      "evtgen_uds_eta               6519 non-null float64\n",
      "evtgen_uds_phi               6519 non-null float64\n",
      "jet_id                       14363 non-null int64\n",
      "jet_eta                      14363 non-null float64\n",
      "jet_phi                      14363 non-null float64\n",
      "jet_etotal                   14363 non-null float64\n",
      "jet_etrans                   14363 non-null float64\n",
      "jet_ptotal                   14363 non-null float64\n",
      "jet_ptrans                   14363 non-null float64\n",
      "jet_minv                     14363 non-null float64\n",
      "jet_mtrans                   14363 non-null float64\n",
      "jet_ncomp                    14363 non-null int64\n",
      "jet_ncomp_above_0p1          14363 non-null int64\n",
      "jet_ncomp_above_1            14363 non-null int64\n",
      "jet_ncomp_above_10           14363 non-null int64\n",
      "jet_ncomp_emcal              14363 non-null int64\n",
      "jetshape_radius              14363 non-null float64\n",
      "jetshape_rms                 14363 non-null float64\n",
      "jetshape_r90                 14363 non-null float64\n",
      "jetshape_econe_r01           14363 non-null float64\n",
      "jetshape_econe_r02           14363 non-null float64\n",
      "jetshape_econe_r03           14363 non-null float64\n",
      "jetshape_econe_r04           14363 non-null float64\n",
      "jetshape_econe_r05           14363 non-null float64\n",
      "jetshape_emcal_radius        14363 non-null float64\n",
      "jetshape_emcal_rms           14363 non-null float64\n",
      "jetshape_emcal_r90           14363 non-null int64\n",
      "jetshape_emcal_econe_r01     14363 non-null float64\n",
      "jetshape_emcal_econe_r02     14363 non-null float64\n",
      "jetshape_emcal_econe_r03     14363 non-null float64\n",
      "jetshape_emcal_econe_r04     14363 non-null float64\n",
      "jetshape_emcal_econe_r05     14363 non-null float64\n",
      "tracks_count_r02             14363 non-null int64\n",
      "tracks_count_r04             14363 non-null int64\n",
      "tracks_rmax_r02              14363 non-null float64\n",
      "tracks_rmax_r04              14363 non-null float64\n",
      "tracks_chargesum_r02         14363 non-null int64\n",
      "tracks_chargesum_r04         14363 non-null int64\n",
      "dtypes: float64(31), int64(18)\n",
      "memory usage: 5.4 MB\n"
     ]
    }
   ],
   "source": [
    "data.info()"
   ]
  },
  {
   "cell_type": "code",
   "execution_count": 4,
   "metadata": {},
   "outputs": [
    {
     "data": {
      "text/html": [
       "<div>\n",
       "<style scoped>\n",
       "    .dataframe tbody tr th:only-of-type {\n",
       "        vertical-align: middle;\n",
       "    }\n",
       "\n",
       "    .dataframe tbody tr th {\n",
       "        vertical-align: top;\n",
       "    }\n",
       "\n",
       "    .dataframe thead th {\n",
       "        text-align: right;\n",
       "    }\n",
       "</style>\n",
       "<table border=\"1\" class=\"dataframe\">\n",
       "  <thead>\n",
       "    <tr style=\"text-align: right;\">\n",
       "      <th></th>\n",
       "      <th>Row</th>\n",
       "      <th>event</th>\n",
       "      <th>evtgen_is_tau</th>\n",
       "      <th>evtgen_tau_etotal</th>\n",
       "      <th>evtgen_tau_eta</th>\n",
       "      <th>evtgen_tau_phi</th>\n",
       "      <th>evtgen_tau_decay_prong</th>\n",
       "      <th>evtgen_tau_decay_hcharged</th>\n",
       "      <th>evtgen_tau_decay_lcharged</th>\n",
       "      <th>evtgen_is_uds</th>\n",
       "      <th>...</th>\n",
       "      <th>jetshape_emcal_econe_r02</th>\n",
       "      <th>jetshape_emcal_econe_r03</th>\n",
       "      <th>jetshape_emcal_econe_r04</th>\n",
       "      <th>jetshape_emcal_econe_r05</th>\n",
       "      <th>tracks_count_r02</th>\n",
       "      <th>tracks_count_r04</th>\n",
       "      <th>tracks_rmax_r02</th>\n",
       "      <th>tracks_rmax_r04</th>\n",
       "      <th>tracks_chargesum_r02</th>\n",
       "      <th>tracks_chargesum_r04</th>\n",
       "    </tr>\n",
       "  </thead>\n",
       "  <tbody>\n",
       "    <tr>\n",
       "      <th>0</th>\n",
       "      <td>2</td>\n",
       "      <td>0</td>\n",
       "      <td>1</td>\n",
       "      <td>34.829021</td>\n",
       "      <td>0.221435</td>\n",
       "      <td>0.760311</td>\n",
       "      <td>3</td>\n",
       "      <td>3</td>\n",
       "      <td>0</td>\n",
       "      <td>0</td>\n",
       "      <td>...</td>\n",
       "      <td>4.608803</td>\n",
       "      <td>4.749965</td>\n",
       "      <td>4.966215</td>\n",
       "      <td>5.408717</td>\n",
       "      <td>1</td>\n",
       "      <td>1</td>\n",
       "      <td>0.073429</td>\n",
       "      <td>0.073429</td>\n",
       "      <td>-1</td>\n",
       "      <td>-1</td>\n",
       "    </tr>\n",
       "  </tbody>\n",
       "</table>\n",
       "<p>1 rows × 49 columns</p>\n",
       "</div>"
      ],
      "text/plain": [
       "   Row  event  evtgen_is_tau  evtgen_tau_etotal  evtgen_tau_eta  \\\n",
       "0    2      0              1          34.829021        0.221435   \n",
       "\n",
       "   evtgen_tau_phi  evtgen_tau_decay_prong  evtgen_tau_decay_hcharged  \\\n",
       "0        0.760311                       3                          3   \n",
       "\n",
       "   evtgen_tau_decay_lcharged  evtgen_is_uds          ...           \\\n",
       "0                          0              0          ...            \n",
       "\n",
       "   jetshape_emcal_econe_r02  jetshape_emcal_econe_r03  \\\n",
       "0                  4.608803                  4.749965   \n",
       "\n",
       "   jetshape_emcal_econe_r04  jetshape_emcal_econe_r05  tracks_count_r02  \\\n",
       "0                  4.966215                  5.408717                 1   \n",
       "\n",
       "   tracks_count_r04  tracks_rmax_r02  tracks_rmax_r04  tracks_chargesum_r02  \\\n",
       "0                 1         0.073429         0.073429                    -1   \n",
       "\n",
       "   tracks_chargesum_r04  \n",
       "0                    -1  \n",
       "\n",
       "[1 rows x 49 columns]"
      ]
     },
     "execution_count": 4,
     "metadata": {},
     "output_type": "execute_result"
    }
   ],
   "source": [
    "data.head(1)"
   ]
  },
  {
   "cell_type": "code",
   "execution_count": 5,
   "metadata": {},
   "outputs": [],
   "source": [
    "# replace values: DIS = 0, tau = 1\n",
    "# note whitespace ' ' before ' DIS' and ' tau'\n",
    "#map_replace = {\n",
    "#'jet_type':{\n",
    "#    ' DIS':0,\n",
    "#    ' tau':1\n",
    "#}\n",
    "#}\n",
    "\n",
    "#data.replace( map_replace, inplace=True )"
   ]
  },
  {
   "cell_type": "code",
   "execution_count": 6,
   "metadata": {},
   "outputs": [
    {
     "data": {
      "text/plain": [
       "0    7807\n",
       "1    6556\n",
       "Name: evtgen_is_tau, dtype: int64"
      ]
     },
     "execution_count": 6,
     "metadata": {},
     "output_type": "execute_result"
    }
   ],
   "source": [
    "data['evtgen_is_tau'].value_counts()"
   ]
  },
  {
   "cell_type": "code",
   "execution_count": 7,
   "metadata": {},
   "outputs": [
    {
     "data": {
      "text/plain": [
       "0    7807\n",
       "1    6556\n",
       "Name: evtgen_is_tau, dtype: int64"
      ]
     },
     "execution_count": 7,
     "metadata": {},
     "output_type": "execute_result"
    }
   ],
   "source": [
    "#feature_cols = ['n_Above_0p1', 'eta_average', 'Delta_phi_std', 'tower_energy_sum']\n",
    "#target_col = 'jet_type'\n",
    "#feature_cols = ['tracks_count_r04', 'tracks_chargesum_r04', 'tracks_rmax_r04', 'jetshape_radius']\n",
    "feature_cols = [\n",
    "#    'jet_eta',\n",
    "#    'jet_phi',\n",
    "    'jet_etotal',\n",
    "    'jet_etrans',\n",
    "    'jet_ptotal',\n",
    "    'jet_ptrans',\n",
    "    'jet_minv',\n",
    "    'jet_mtrans',\n",
    "    'jet_ncomp',\n",
    "    'jet_ncomp_above_0p1',\n",
    "    'jet_ncomp_above_1',\n",
    "#    'jet_ncomp_above_10',\n",
    "    'jet_ncomp_emcal',\n",
    "    'jetshape_radius',\n",
    "    'jetshape_rms',\n",
    "    'jetshape_r90',\n",
    "    'jetshape_econe_r01',\n",
    "    'jetshape_econe_r02',\n",
    "    'jetshape_econe_r03',\n",
    "    'jetshape_econe_r04',\n",
    "    'jetshape_econe_r05',\n",
    "    'jetshape_emcal_radius',\n",
    "    'jetshape_emcal_rms',\n",
    "    'jetshape_emcal_r90',\n",
    "    'jetshape_emcal_econe_r01',\n",
    "    'jetshape_emcal_econe_r02',\n",
    "    'jetshape_emcal_econe_r03',\n",
    "    'jetshape_emcal_econe_r04',\n",
    "    'jetshape_emcal_econe_r05',\n",
    "#    'tracks_count_r02',\n",
    "    'tracks_count_r04',\n",
    "#    'tracks_rmax_r02',\n",
    "    'tracks_rmax_r04',\n",
    "#    'tracks_chargesum_r02',\n",
    "    'tracks_chargesum_r04']\n",
    "\n",
    "target_col = 'evtgen_is_tau'\n",
    "\n",
    "features = data[ feature_cols ]\n",
    "target = data[ target_col ]\n",
    "target.value_counts()"
   ]
  },
  {
   "cell_type": "code",
   "execution_count": 8,
   "metadata": {},
   "outputs": [],
   "source": [
    "from sklearn.model_selection import train_test_split\n",
    "\n",
    "# create training and testing vars\n",
    "#X_train, X_test, y_train, y_test = train_test_split(features, target, test_size=0.8)\n",
    "#print (X_train.shape, y_train.shape)\n",
    "#print (X_test.shape, y_test.shape)"
   ]
  },
  {
   "cell_type": "code",
   "execution_count": 9,
   "metadata": {},
   "outputs": [
    {
     "name": "stderr",
     "output_type": "stream",
     "text": [
      "/usr/local/lib/python3.6/site-packages/sklearn/cross_validation.py:41: DeprecationWarning: This module was deprecated in version 0.18 in favor of the model_selection module into which all the refactored classes and functions are moved. Also note that the interface of the new CV iterators are different from that of this module. This module will be removed in 0.20.\n",
      "  \"This module will be removed in 0.20.\", DeprecationWarning)\n"
     ]
    },
    {
     "name": "stdout",
     "output_type": "stream",
     "text": [
      "True positive: 6020\n",
      "True negativee: 7086\n",
      "False positive: 721\n",
      "False negative: 536\n",
      "True Positive Rate: 0.9182428309945089\n",
      "False Positive Rate: 0.09235301652363263\n"
     ]
    }
   ],
   "source": [
    "from sklearn.ensemble import RandomForestClassifier\n",
    "from sklearn.ensemble import AdaBoostClassifier\n",
    "from sklearn.tree import DecisionTreeClassifier\n",
    "from sklearn.linear_model import LogisticRegression\n",
    "from sklearn.cross_validation import cross_val_predict, KFold\n",
    "\n",
    "penalty = {\n",
    "    0: 100,\n",
    "    1: 1\n",
    "}\n",
    "\n",
    "#lr = LogisticRegression(class_weight=penalty)\n",
    "\n",
    "#lr = DecisionTreeClassifier(class_weight=penalty, max_depth=30)\n",
    "\n",
    "lr = AdaBoostClassifier(random_state=1)\n",
    "\n",
    "#lr = RandomForestClassifier(class_weight=penalty, random_state=1, max_depth=20)\n",
    "#lr = RandomForestClassifier(class_weight='balanced', random_state=1)\n",
    "#lr = RandomForestClassifier(random_state=1)\n",
    "kf = KFold(features.shape[0], shuffle=True, random_state=1)\n",
    "\n",
    "predictions = cross_val_predict(lr, features, target, cv=kf)\n",
    "#predictions = cross_val_predict(lr, features, target, cv=10)\n",
    "\n",
    "#lr.fit( features, target )\n",
    "#predictions = lr.predict(features)\n",
    "predictions = pd.Series(predictions)\n",
    "\n",
    "# False positives.\n",
    "fp_filter = (predictions == 1) & (target == 0)\n",
    "fp = len(data[fp_filter])\n",
    "\n",
    "# True positives.\n",
    "tp_filter = (predictions == 1) & (target == 1)\n",
    "tp = len(data[tp_filter])\n",
    "\n",
    "# False negatives.\n",
    "fn_filter = (predictions == 0) & (target == 1)\n",
    "fn = len(data[fn_filter])\n",
    "\n",
    "# True negatives\n",
    "tn_filter = (predictions == 0) & (target == 0)\n",
    "tn = len(data[tn_filter])\n",
    "\n",
    "# Rates\n",
    "tpr = tp / (tp + fn)\n",
    "fpr = fp / (fp + tn)\n",
    "\n",
    "print( \"True positive: \"+str(tp))\n",
    "print( \"True negativee: \"+str(tn))\n",
    "print( \"False positive: \"+str(fp))\n",
    "print( \"False negative: \"+str(fn))\n",
    "print( \"True Positive Rate: \"+str(tpr) )\n",
    "print( \"False Positive Rate: \"+str(fpr) )"
   ]
  }
 ],
 "metadata": {
  "kernelspec": {
   "display_name": "Python 3",
   "language": "python",
   "name": "python3"
  },
  "language_info": {
   "codemirror_mode": {
    "name": "ipython",
    "version": 3
   },
   "file_extension": ".py",
   "mimetype": "text/x-python",
   "name": "python",
   "nbconvert_exporter": "python",
   "pygments_lexer": "ipython3",
   "version": "3.6.3"
  }
 },
 "nbformat": 4,
 "nbformat_minor": 2
}
