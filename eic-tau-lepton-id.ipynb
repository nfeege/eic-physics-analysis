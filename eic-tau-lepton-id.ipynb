{
 "cells": [
  {
   "cell_type": "markdown",
   "metadata": {},
   "source": [
    "# Identifying Tau Leptons In A High Energy Particle Collider Experiment\n",
    "\n",
    "This project aims to use a machine learning algorithm to distinguish tau-jets (from tau lepton decays into pions) from hadronic jets in high energy electron-proton colisions at the proposed Electron Ion Collider. This distinction is needed to identify tau leptons and effectively search for hypothesized (but extremely rare) electron-to-tau conversions, a phenomenon which would be very strong evidence for physics beyond the Standard Model.\n",
    "\n",
    "The [Standard Model of Elementary Particle Physics](https://en.wikipedia.org/wiki/Standard_Model) describes the fundamental building blocks of all visible matter in the universe and the forces acting between them. It includes twelve matter particles, called fermions. These fermions are grouped in three generations of 'quarks' and three generations of 'leptons'. Each generation includes two quarks and two leptons, respectively. In addition, the Standard Model contains four 'gauge bosons', which mediate the forces between the fermions, and the Higgs boson. All these fundamental particles of the Standard Model have been observed in experiments. \n",
    "\n",
    "<br>\n",
    "\n",
    "<img src=\"figures/Standard_Model_of_Elementary_Particles.jpg\" alt=\"The Standard Model of Elementary Particle Physics\" style=\"width: 600px;\"/>\n",
    "<center> (Image source: [Wikipedia](https://en.wikipedia.org/wiki/Standard_Model#/media/File:Standard_Model_of_Elementary_Particles.svg) ) </center>\n",
    "\n",
    "Over the past decades, the Standard Model has had enormous success in describing data from experiments and making accurate predictions. However, it cannot answer all our questions about the universe, and the search for phenomena and particles [beyond the Standard Model](https://en.wikipedia.org/wiki/Physics_beyond_the_Standard_Model) continues with more dedication than ever. One example of such a 'phenomenon of interest' is the conversion of electrons into tau leptons. According to the Standard Model, the chance that this conversion happens is so small that no current or planned experiment could possibly hope to observe it. And so far, no experiment has seen it. Therefore, if electron-to-tau conversions were measured, they would be very strong evidence for physics beyond the Standard Model.\n",
    "\n",
    "The proposed Electron Ion Collider (EIC) will collide electrons with protons (and heavier atomic nuclei) at nearly the speed of light. While the main purpose of EIC is to study the inner structure and dynamics of protons and nuclei, it also provides a new opportunity to search for conversions of electrons into tau leptons. The big challenge here is to find the rare electron-proton collisions in wich an electron turns into a tau lepton. If they occur, we would expect about X every X years- compared to an overall rate of X electron-proton collisions per second.\n",
    "\n",
    "<img src=\"figures/tau_signature.jpg\" alt=\"Experimental signature of a tau lepton decaying into pions.\" style=\"width: 400px;\"/>\n",
    "\n",
    "Most electron-proton collisions at EIC result in one or more hadron <a href=\"https://en.wikipedia.org/wiki/Jet_(particle_physics)\">jets</a> that are measured by the experiment. If tau leptons are being created, they decay before we can measure them directly. However, we can measure their decay products and use that information to reconstruct the original tau lepton. For this study, we focus on tau decays that result in three charged [pions](https://en.wikipedia.org/wiki/Pion) (and a neutral pion and a neutrino, which escapes direct detection). These pions form a characteristically narrow and jet-like cone, which is typically narrower and contains fewer particles than the ubiquitous hadron jets. To identify tau leptons, we need to find an effective way to distinguish tau-jets from hadron jets. This project aims to use a machine learning algorithm to accomlish this.\n",
    "\n",
    "\n",
    "\n",
    "# The Data\n",
    "\n",
    "For the simulations used in this study, we assume a model of physics beyond the Standard Model that includes [Leptoquarks](https://en.wikipedia.org/wiki/Leptoquark). Leptoquarks are hypothetical particles that combine properties of quarks and leptons. In addition, they mediate identity changes for charged leptons.\n"
   ]
  },
  {
   "cell_type": "markdown",
   "metadata": {},
   "source": [
    "Picture: DIS process\n",
    "Picture: DIS in detector\n",
    "Picture: Leptoquark\n",
    "Picture: Jet\n",
    "\n",
    "One category of intriguing research found the standard model is the search for possible extensions / its limitations.\n",
    "\n",
    "Search for extensions of the standard model, BSM, like new particles.\n",
    "\n",
    "Leptoquarks, which combine Lepton and Qaurk properties. One interesting feature of these particles is that they would allow charged leptons to change their identity. Such type changes have been observed within the SM for neutrinos and quarks, but the likelihood for charged leptons to do the same is so small that it’s out of reach of experiments. Therefore, measuring such transitions wold be a clear signature for physics beyond th standard model. Exciting!!!\n",
    "\n",
    "Large experiments consisting of various different types of measurement instruments are used to measure the reaction products, i.e. the particles coming out of each collision. Examples…\n",
    "\n",
    "In a typical electron-proton collision…\n",
    "\n",
    "Finding Letptoquarks:\n",
    "1. Find collisions where the electron disappears, i.e. turns into a different type of particle.\n",
    "2. Within thee collisions, find the ones with a tau particle in the final state.\n",
    "\n"
   ]
  },
  {
   "cell_type": "markdown",
   "metadata": {},
   "source": [
    "# The Experiment"
   ]
  },
  {
   "cell_type": "markdown",
   "metadata": {},
   "source": [
    "# Jet Characteristics"
   ]
  },
  {
   "cell_type": "markdown",
   "metadata": {},
   "source": [
    "# The Data"
   ]
  },
  {
   "cell_type": "code",
   "execution_count": 6,
   "metadata": {},
   "outputs": [],
   "source": [
    "# import libraries\n",
    "import pandas as pd\n",
    "import numpy as np"
   ]
  },
  {
   "cell_type": "code",
   "execution_count": 7,
   "metadata": {},
   "outputs": [],
   "source": [
    "# read data\n",
    "data = pd.read_csv('data/LeptoAna_r05_p250_e20.csv')\n",
    "#data = data.astype('float32')\n",
    "#data = data.dropna(axis=0)"
   ]
  },
  {
   "cell_type": "code",
   "execution_count": 11,
   "metadata": {},
   "outputs": [],
   "source": [
    "# replace values: DIS = 0, tau = 1\n",
    "# note whitespace ' ' before ' DIS' and ' tau'\n",
    "#map_replace = {\n",
    "#'jet_type':{\n",
    "#    ' DIS':0,\n",
    "#    ' tau':1\n",
    "#}\n",
    "#}\n",
    "\n",
    "#data.replace( map_replace, inplace=True )"
   ]
  },
  {
   "cell_type": "code",
   "execution_count": 8,
   "metadata": {},
   "outputs": [
    {
     "name": "stdout",
     "output_type": "stream",
     "text": [
      "<class 'pandas.core.frame.DataFrame'>\n",
      "RangeIndex: 14363 entries, 0 to 14362\n",
      "Data columns (total 49 columns):\n",
      "Row                          14363 non-null int64\n",
      "event                        14363 non-null int64\n",
      "evtgen_is_tau                14363 non-null int64\n",
      "evtgen_tau_etotal            6556 non-null float64\n",
      "evtgen_tau_eta               6556 non-null float64\n",
      "evtgen_tau_phi               6556 non-null float64\n",
      "evtgen_tau_decay_prong       14363 non-null int64\n",
      "evtgen_tau_decay_hcharged    14363 non-null int64\n",
      "evtgen_tau_decay_lcharged    14363 non-null int64\n",
      "evtgen_is_uds                14363 non-null int64\n",
      "evtgen_uds_etotal            6519 non-null float64\n",
      "evtgen_uds_eta               6519 non-null float64\n",
      "evtgen_uds_phi               6519 non-null float64\n",
      "jet_id                       14363 non-null int64\n",
      "jet_eta                      14363 non-null float64\n",
      "jet_phi                      14363 non-null float64\n",
      "jet_etotal                   14363 non-null float64\n",
      "jet_etrans                   14363 non-null float64\n",
      "jet_ptotal                   14363 non-null float64\n",
      "jet_ptrans                   14363 non-null float64\n",
      "jet_minv                     14363 non-null float64\n",
      "jet_mtrans                   14363 non-null float64\n",
      "jet_ncomp                    14363 non-null int64\n",
      "jet_ncomp_above_0p1          14363 non-null int64\n",
      "jet_ncomp_above_1            14363 non-null int64\n",
      "jet_ncomp_above_10           14363 non-null int64\n",
      "jet_ncomp_emcal              14363 non-null int64\n",
      "jetshape_radius              14363 non-null float64\n",
      "jetshape_rms                 14363 non-null float64\n",
      "jetshape_r90                 14363 non-null float64\n",
      "jetshape_econe_r01           14363 non-null float64\n",
      "jetshape_econe_r02           14363 non-null float64\n",
      "jetshape_econe_r03           14363 non-null float64\n",
      "jetshape_econe_r04           14363 non-null float64\n",
      "jetshape_econe_r05           14363 non-null float64\n",
      "jetshape_emcal_radius        14363 non-null float64\n",
      "jetshape_emcal_rms           14363 non-null float64\n",
      "jetshape_emcal_r90           14363 non-null int64\n",
      "jetshape_emcal_econe_r01     14363 non-null float64\n",
      "jetshape_emcal_econe_r02     14363 non-null float64\n",
      "jetshape_emcal_econe_r03     14363 non-null float64\n",
      "jetshape_emcal_econe_r04     14363 non-null float64\n",
      "jetshape_emcal_econe_r05     14363 non-null float64\n",
      "tracks_count_r02             14363 non-null int64\n",
      "tracks_count_r04             14363 non-null int64\n",
      "tracks_rmax_r02              14363 non-null float64\n",
      "tracks_rmax_r04              14363 non-null float64\n",
      "tracks_chargesum_r02         14363 non-null int64\n",
      "tracks_chargesum_r04         14363 non-null int64\n",
      "dtypes: float64(31), int64(18)\n",
      "memory usage: 5.4 MB\n"
     ]
    }
   ],
   "source": [
    "data.info()"
   ]
  },
  {
   "cell_type": "code",
   "execution_count": 9,
   "metadata": {},
   "outputs": [
    {
     "data": {
      "text/html": [
       "<div>\n",
       "<style scoped>\n",
       "    .dataframe tbody tr th:only-of-type {\n",
       "        vertical-align: middle;\n",
       "    }\n",
       "\n",
       "    .dataframe tbody tr th {\n",
       "        vertical-align: top;\n",
       "    }\n",
       "\n",
       "    .dataframe thead th {\n",
       "        text-align: right;\n",
       "    }\n",
       "</style>\n",
       "<table border=\"1\" class=\"dataframe\">\n",
       "  <thead>\n",
       "    <tr style=\"text-align: right;\">\n",
       "      <th></th>\n",
       "      <th>Row</th>\n",
       "      <th>event</th>\n",
       "      <th>evtgen_is_tau</th>\n",
       "      <th>evtgen_tau_etotal</th>\n",
       "      <th>evtgen_tau_eta</th>\n",
       "      <th>evtgen_tau_phi</th>\n",
       "      <th>evtgen_tau_decay_prong</th>\n",
       "      <th>evtgen_tau_decay_hcharged</th>\n",
       "      <th>evtgen_tau_decay_lcharged</th>\n",
       "      <th>evtgen_is_uds</th>\n",
       "      <th>...</th>\n",
       "      <th>jetshape_emcal_econe_r02</th>\n",
       "      <th>jetshape_emcal_econe_r03</th>\n",
       "      <th>jetshape_emcal_econe_r04</th>\n",
       "      <th>jetshape_emcal_econe_r05</th>\n",
       "      <th>tracks_count_r02</th>\n",
       "      <th>tracks_count_r04</th>\n",
       "      <th>tracks_rmax_r02</th>\n",
       "      <th>tracks_rmax_r04</th>\n",
       "      <th>tracks_chargesum_r02</th>\n",
       "      <th>tracks_chargesum_r04</th>\n",
       "    </tr>\n",
       "  </thead>\n",
       "  <tbody>\n",
       "    <tr>\n",
       "      <th>0</th>\n",
       "      <td>2</td>\n",
       "      <td>0</td>\n",
       "      <td>1</td>\n",
       "      <td>34.829021</td>\n",
       "      <td>0.221435</td>\n",
       "      <td>0.760311</td>\n",
       "      <td>3</td>\n",
       "      <td>3</td>\n",
       "      <td>0</td>\n",
       "      <td>0</td>\n",
       "      <td>...</td>\n",
       "      <td>4.608803</td>\n",
       "      <td>4.749965</td>\n",
       "      <td>4.966215</td>\n",
       "      <td>5.408717</td>\n",
       "      <td>1</td>\n",
       "      <td>1</td>\n",
       "      <td>0.073429</td>\n",
       "      <td>0.073429</td>\n",
       "      <td>-1</td>\n",
       "      <td>-1</td>\n",
       "    </tr>\n",
       "  </tbody>\n",
       "</table>\n",
       "<p>1 rows × 49 columns</p>\n",
       "</div>"
      ],
      "text/plain": [
       "   Row  event  evtgen_is_tau  evtgen_tau_etotal  evtgen_tau_eta  \\\n",
       "0    2      0              1          34.829021        0.221435   \n",
       "\n",
       "   evtgen_tau_phi  evtgen_tau_decay_prong  evtgen_tau_decay_hcharged  \\\n",
       "0        0.760311                       3                          3   \n",
       "\n",
       "   evtgen_tau_decay_lcharged  evtgen_is_uds          ...           \\\n",
       "0                          0              0          ...            \n",
       "\n",
       "   jetshape_emcal_econe_r02  jetshape_emcal_econe_r03  \\\n",
       "0                  4.608803                  4.749965   \n",
       "\n",
       "   jetshape_emcal_econe_r04  jetshape_emcal_econe_r05  tracks_count_r02  \\\n",
       "0                  4.966215                  5.408717                 1   \n",
       "\n",
       "   tracks_count_r04  tracks_rmax_r02  tracks_rmax_r04  tracks_chargesum_r02  \\\n",
       "0                 1         0.073429         0.073429                    -1   \n",
       "\n",
       "   tracks_chargesum_r04  \n",
       "0                    -1  \n",
       "\n",
       "[1 rows x 49 columns]"
      ]
     },
     "execution_count": 9,
     "metadata": {},
     "output_type": "execute_result"
    }
   ],
   "source": [
    "data.head(1)"
   ]
  },
  {
   "cell_type": "code",
   "execution_count": 10,
   "metadata": {},
   "outputs": [
    {
     "data": {
      "text/plain": [
       "0    7807\n",
       "1    6556\n",
       "Name: evtgen_is_tau, dtype: int64"
      ]
     },
     "execution_count": 10,
     "metadata": {},
     "output_type": "execute_result"
    }
   ],
   "source": [
    "data['evtgen_is_tau'].value_counts()"
   ]
  },
  {
   "cell_type": "markdown",
   "metadata": {},
   "source": [
    "# Tau-Jet Classification Using Machine Learning"
   ]
  },
  {
   "cell_type": "code",
   "execution_count": 7,
   "metadata": {},
   "outputs": [
    {
     "data": {
      "text/plain": [
       "0    7807\n",
       "1    6556\n",
       "Name: evtgen_is_tau, dtype: int64"
      ]
     },
     "execution_count": 7,
     "metadata": {},
     "output_type": "execute_result"
    }
   ],
   "source": [
    "#feature_cols = ['n_Above_0p1', 'eta_average', 'Delta_phi_std', 'tower_energy_sum']\n",
    "#target_col = 'jet_type'\n",
    "#feature_cols = ['tracks_count_r04', 'tracks_chargesum_r04', 'tracks_rmax_r04', 'jetshape_radius']\n",
    "feature_cols = [\n",
    "#    'jet_eta',\n",
    "#    'jet_phi',\n",
    "    'jet_etotal',\n",
    "    'jet_etrans',\n",
    "    'jet_ptotal',\n",
    "    'jet_ptrans',\n",
    "    'jet_minv',\n",
    "    'jet_mtrans',\n",
    "    'jet_ncomp',\n",
    "    'jet_ncomp_above_0p1',\n",
    "    'jet_ncomp_above_1',\n",
    "#    'jet_ncomp_above_10',\n",
    "    'jet_ncomp_emcal',\n",
    "    'jetshape_radius',\n",
    "    'jetshape_rms',\n",
    "    'jetshape_r90',\n",
    "    'jetshape_econe_r01',\n",
    "    'jetshape_econe_r02',\n",
    "    'jetshape_econe_r03',\n",
    "    'jetshape_econe_r04',\n",
    "    'jetshape_econe_r05',\n",
    "    'jetshape_emcal_radius',\n",
    "    'jetshape_emcal_rms',\n",
    "    'jetshape_emcal_r90',\n",
    "    'jetshape_emcal_econe_r01',\n",
    "    'jetshape_emcal_econe_r02',\n",
    "    'jetshape_emcal_econe_r03',\n",
    "    'jetshape_emcal_econe_r04',\n",
    "    'jetshape_emcal_econe_r05',\n",
    "#    'tracks_count_r02',\n",
    "    'tracks_count_r04',\n",
    "#    'tracks_rmax_r02',\n",
    "    'tracks_rmax_r04',\n",
    "#    'tracks_chargesum_r02',\n",
    "    'tracks_chargesum_r04']\n",
    "\n",
    "target_col = 'evtgen_is_tau'\n",
    "\n",
    "features = data[ feature_cols ]\n",
    "target = data[ target_col ]\n",
    "target.value_counts()"
   ]
  },
  {
   "cell_type": "code",
   "execution_count": 8,
   "metadata": {},
   "outputs": [],
   "source": [
    "from sklearn.model_selection import train_test_split\n",
    "\n",
    "# create training and testing vars\n",
    "#X_train, X_test, y_train, y_test = train_test_split(features, target, test_size=0.8)\n",
    "#print (X_train.shape, y_train.shape)\n",
    "#print (X_test.shape, y_test.shape)"
   ]
  },
  {
   "cell_type": "code",
   "execution_count": 9,
   "metadata": {},
   "outputs": [
    {
     "name": "stderr",
     "output_type": "stream",
     "text": [
      "/usr/local/lib/python3.6/site-packages/sklearn/cross_validation.py:41: DeprecationWarning: This module was deprecated in version 0.18 in favor of the model_selection module into which all the refactored classes and functions are moved. Also note that the interface of the new CV iterators are different from that of this module. This module will be removed in 0.20.\n",
      "  \"This module will be removed in 0.20.\", DeprecationWarning)\n"
     ]
    },
    {
     "name": "stdout",
     "output_type": "stream",
     "text": [
      "True positive: 6020\n",
      "True negativee: 7086\n",
      "False positive: 721\n",
      "False negative: 536\n",
      "True Positive Rate: 0.9182428309945089\n",
      "False Positive Rate: 0.09235301652363263\n"
     ]
    }
   ],
   "source": [
    "from sklearn.ensemble import RandomForestClassifier\n",
    "from sklearn.ensemble import AdaBoostClassifier\n",
    "from sklearn.tree import DecisionTreeClassifier\n",
    "from sklearn.linear_model import LogisticRegression\n",
    "from sklearn.cross_validation import cross_val_predict, KFold\n",
    "\n",
    "penalty = {\n",
    "    0: 100,\n",
    "    1: 1\n",
    "}\n",
    "\n",
    "#lr = LogisticRegression(class_weight=penalty)\n",
    "\n",
    "#lr = DecisionTreeClassifier(class_weight=penalty, max_depth=30)\n",
    "\n",
    "lr = AdaBoostClassifier(random_state=1)\n",
    "\n",
    "#lr = RandomForestClassifier(class_weight=penalty, random_state=1, max_depth=20)\n",
    "#lr = RandomForestClassifier(class_weight='balanced', random_state=1)\n",
    "#lr = RandomForestClassifier(random_state=1)\n",
    "kf = KFold(features.shape[0], shuffle=True, random_state=1)\n",
    "\n",
    "predictions = cross_val_predict(lr, features, target, cv=kf)\n",
    "#predictions = cross_val_predict(lr, features, target, cv=10)\n",
    "\n",
    "#lr.fit( features, target )\n",
    "#predictions = lr.predict(features)\n",
    "predictions = pd.Series(predictions)\n",
    "\n",
    "# False positives.\n",
    "fp_filter = (predictions == 1) & (target == 0)\n",
    "fp = len(data[fp_filter])\n",
    "\n",
    "# True positives.\n",
    "tp_filter = (predictions == 1) & (target == 1)\n",
    "tp = len(data[tp_filter])\n",
    "\n",
    "# False negatives.\n",
    "fn_filter = (predictions == 0) & (target == 1)\n",
    "fn = len(data[fn_filter])\n",
    "\n",
    "# True negatives\n",
    "tn_filter = (predictions == 0) & (target == 0)\n",
    "tn = len(data[tn_filter])\n",
    "\n",
    "# Rates\n",
    "tpr = tp / (tp + fn)\n",
    "fpr = fp / (fp + tn)\n",
    "\n",
    "print( \"True positive: \"+str(tp))\n",
    "print( \"True negativee: \"+str(tn))\n",
    "print( \"False positive: \"+str(fp))\n",
    "print( \"False negative: \"+str(fn))\n",
    "print( \"True Positive Rate: \"+str(tpr) )\n",
    "print( \"False Positive Rate: \"+str(fpr) )"
   ]
  }
 ],
 "metadata": {
  "kernelspec": {
   "display_name": "Python 3",
   "language": "python",
   "name": "python3"
  },
  "language_info": {
   "codemirror_mode": {
    "name": "ipython",
    "version": 3
   },
   "file_extension": ".py",
   "mimetype": "text/x-python",
   "name": "python",
   "nbconvert_exporter": "python",
   "pygments_lexer": "ipython3",
   "version": "3.6.3"
  }
 },
 "nbformat": 4,
 "nbformat_minor": 2
}
