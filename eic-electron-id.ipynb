{
 "cells": [
  {
   "cell_type": "markdown",
   "metadata": {},
   "source": [
    "# Electron Ion Collider Experiments: Electron ID\n",
    "\n",
    "Identifying electrons in the final states of electron-proton collisions at a collider experiment:\n",
    "* Standard Model of Particle Physics- what do we know about protons?\n",
    "* What is Deeply Inelastic Scattering?\n",
    "* Particle Detectors as means of looking into the heart of matter.\n",
    "* Finding electron particles in events.\n",
    "\n",
    "Reference: [The Particle Adventure](http://www.particleadventure.org/)"
   ]
  },
  {
   "cell_type": "code",
   "execution_count": null,
   "metadata": {},
   "outputs": [],
   "source": []
  }
 ],
 "metadata": {
  "kernelspec": {
   "display_name": "Python 3",
   "language": "python",
   "name": "python3"
  },
  "language_info": {
   "codemirror_mode": {
    "name": "ipython",
    "version": 3
   },
   "file_extension": ".py",
   "mimetype": "text/x-python",
   "name": "python",
   "nbconvert_exporter": "python",
   "pygments_lexer": "ipython3",
   "version": "3.6.3"
  }
 },
 "nbformat": 4,
 "nbformat_minor": 2
}
