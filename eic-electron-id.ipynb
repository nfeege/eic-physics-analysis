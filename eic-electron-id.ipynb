{
 "cells": [
  {
   "cell_type": "markdown",
   "metadata": {},
   "source": [
    "# Electron Ion Collider Experiments: Electron ID\n",
    "\n",
    "Identifying electrons in the final states of electron-proton collisions at a collider experiment:\n",
    "* Finding electron particles in events.\n",
    "\n",
    "<img src=\"figures/dis_nc_cc.jpg\" alt=\"Deep Inelastic Scattering Process\" style=\"width: 400px;\"/>\n",
    "(Image source: [DESY](http://www.desy.de) )\n"
   ]
  },
  {
   "cell_type": "code",
   "execution_count": null,
   "metadata": {},
   "outputs": [],
   "source": []
  }
 ],
 "metadata": {
  "kernelspec": {
   "display_name": "Python 3",
   "language": "python",
   "name": "python3"
  },
  "language_info": {
   "codemirror_mode": {
    "name": "ipython",
    "version": 3
   },
   "file_extension": ".py",
   "mimetype": "text/x-python",
   "name": "python",
   "nbconvert_exporter": "python",
   "pygments_lexer": "ipython3",
   "version": "3.6.3"
  }
 },
 "nbformat": 4,
 "nbformat_minor": 2
}
